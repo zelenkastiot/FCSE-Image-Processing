{
 "cells": [
  {
   "cell_type": "markdown",
   "metadata": {},
   "source": [
    "# Homework 1: Contrast stretching\n",
    "*** \n",
    "**Subject:** Digital Image processing, FCSE 2021 <br> \n",
    "**Student:** Kiril Zelenkovski <br> \n",
    "**Deadline:** Tuesday, 30 March 2021 <br> "
   ]
  },
  {
   "cell_type": "markdown",
   "metadata": {},
   "source": [
    "## Assigment "
   ]
  },
  {
   "cell_type": "markdown",
   "metadata": {},
   "source": [
    "Implementation of a *Python* function that does **Contrast streching** on a given image. The function works with aн arbitrary number of points and takes two arguments: \n",
    "- <code>:param image:</code> array, image on which we apply stretching\n",
    "- <code>:param main_list:</code>\n",
    "  - <code>main_list[0]</code> &#8594; list of input sensitivity level numbers (r1, r2, r3..)\n",
    "  - <code>main_list[1]</code> &#8594; list of output intensity level numbers (s1, s2, s3..)\n",
    "\n",
    "The function returns an array of numbers, which represent the input image stretched on all channels (<mark>1 channel if Grayscale</mark>, <mark>3 channels if RGB</mark>)."
   ]
  },
  {
   "cell_type": "markdown",
   "metadata": {},
   "source": [
    "## Solution"
   ]
  },
  {
   "cell_type": "markdown",
   "metadata": {},
   "source": [
    "Python dependencies are: \n",
    "- <code>numpy</code>==1.18.5  \n",
    "- <code>opencv-python</code>==4.5.1.48  \n",
    "- <code>plotly</code>==4.11.0"
   ]
  },
  {
   "cell_type": "code",
   "execution_count": 15,
   "metadata": {
    "ExecuteTime": {
     "end_time": "2021-03-24T23:29:24.348020Z",
     "start_time": "2021-03-24T23:29:24.324487Z"
    }
   },
   "outputs": [
    {
     "data": {
      "text/html": [
       "        <script type=\"text/javascript\">\n",
       "        window.PlotlyConfig = {MathJaxConfig: 'local'};\n",
       "        if (window.MathJax) {MathJax.Hub.Config({SVG: {font: \"STIX-Web\"}});}\n",
       "        if (typeof require !== 'undefined') {\n",
       "        require.undef(\"plotly\");\n",
       "        requirejs.config({\n",
       "            paths: {\n",
       "                'plotly': ['https://cdn.plot.ly/plotly-latest.min']\n",
       "            }\n",
       "        });\n",
       "        require(['plotly'], function(Plotly) {\n",
       "            window._Plotly = Plotly;\n",
       "        });\n",
       "        }\n",
       "        </script>\n",
       "        "
      ]
     },
     "metadata": {},
     "output_type": "display_data"
    }
   ],
   "source": [
    "import numpy as np\n",
    "import cv2\n",
    "from plotly.offline import init_notebook_mode, plot, iplot\n",
    "\n",
    "init_notebook_mode(connected=True)\n",
    "config = {'showLink': False, 'displayModeBar': False}"
   ]
  },
  {
   "cell_type": "markdown",
   "metadata": {},
   "source": [
    "Main function for contrast stretching:"
   ]
  },
  {
   "cell_type": "code",
   "execution_count": 16,
   "metadata": {
    "ExecuteTime": {
     "end_time": "2021-03-24T23:30:32.169641Z",
     "start_time": "2021-03-24T23:30:32.154122Z"
    }
   },
   "outputs": [],
   "source": [
    "def contrast_stretching(image, main_list: list):\n",
    "    \"\"\"\n",
    "    :param image: array, image on which we apply stretching\n",
    "    :param main_list:\n",
    "        main_list[0] - list of input sensitivity level numbers (r1, r2, r3..)\n",
    "        main_list[1] - list of output intensity level numbers (s1, s2, s3..)\n",
    "    :return: array, image stretched on all channels (1 if Grayscale, 3 if RGB)\n",
    "    \"\"\"\n",
    "    r = main_list[0]\n",
    "    s = main_list[1]\n",
    "    gray = False\n",
    "    if len(image.shape) < 3:\n",
    "        gray = True\n",
    "    r.insert(0, 0)\n",
    "    r.append(255)\n",
    "    s.insert(0, 0)\n",
    "    s.append(255)\n",
    "    # Calculate slope from points\n",
    "    slopes = np.diff(s) / np.diff(r)\n",
    "    dd = {}\n",
    "    # Combine ranges, slopes and points\n",
    "    for i in range(len(r) - 1):\n",
    "        # Range1: (0, 50) Range2: (51,150) ... \n",
    "        dd[(r[i], r[i + 1]) if i == 0 else (r[i] + 1, r[i + 1])] = (slopes[i], s[i])\n",
    "\n",
    "    # Apply stretching on channels\n",
    "    if gray:\n",
    "        # Gray image has one channel\n",
    "        image = stretch(image, dd)\n",
    "    else:\n",
    "        # make the stretching for all channels\n",
    "        for i in range(image.shape[2]):\n",
    "            image[:, :, i] = stretch(image[:, :, i], dd)\n",
    "\n",
    "    # Return fully stretched image\n",
    "    return image"
   ]
  },
  {
   "cell_type": "markdown",
   "metadata": {},
   "source": [
    "Function for stretching on given chanel:"
   ]
  },
  {
   "cell_type": "code",
   "execution_count": 17,
   "metadata": {
    "ExecuteTime": {
     "end_time": "2021-03-24T23:30:52.000999Z",
     "start_time": "2021-03-24T23:30:51.991000Z"
    }
   },
   "outputs": [],
   "source": [
    "def stretch(channel, dd):\n",
    "    masks = []\n",
    "    for k in dd:\n",
    "        # Get all pixels with specified range as mask\n",
    "        mask = cv2.inRange(channel, k[0], k[1])\n",
    "        masks.append(mask)\n",
    "\n",
    "    for values, mask, x in zip(dd.values(), masks, dd.keys()):\n",
    "        # Get the pixels that we need to change\n",
    "        px_to_modify = cv2.bitwise_and(channel, mask)\n",
    "        # Get the rest of the pixels\n",
    "        px_help = cv2.bitwise_or(channel, mask)\n",
    "        # Create matrix rows x cols with values 255\n",
    "        all_white = np.full((channel.shape[0], channel.shape[1]), 255, dtype=np.dtype('uint8'))\n",
    "        non_mod_px_inv = cv2.bitwise_xor(px_help, all_white)\n",
    "\n",
    "        # Apply stretching to the chosen pixels\n",
    "        px_to_modify[px_to_modify != 0] = (px_to_modify[px_to_modify != 0] - (x[0] - 1 if x[0] > 0 else x[0])) * values[\n",
    "            0] + values[1]\n",
    "        # Add 255 to rest of the pixels (needed for xor)\n",
    "        px_to_modify[px_to_modify == 0] = 255\n",
    "\n",
    "        mod_values = cv2.bitwise_xor(px_to_modify, non_mod_px_inv)\n",
    "        channel = mod_values\n",
    "\n",
    "    return channel"
   ]
  },
  {
   "cell_type": "markdown",
   "metadata": {},
   "source": [
    "Define both <mark><b>Input intensity level</b></mark> list and <mark><b>Output intensity level</b></mark> list, <code>r_list</code> and <code>s_list</code> accordingly: "
   ]
  },
  {
   "cell_type": "code",
   "execution_count": 18,
   "metadata": {
    "ExecuteTime": {
     "end_time": "2021-03-24T23:32:29.618572Z",
     "start_time": "2021-03-24T23:32:29.609570Z"
    }
   },
   "outputs": [],
   "source": [
    "#         r1   r2  r3  (Input intensity level)\n",
    "r_list = [20, 120, 80]\n",
    "#         s1   s2  s3  (Output intensity level)\n",
    "s_list = [30, 200, 90]"
   ]
  },
  {
   "cell_type": "markdown",
   "metadata": {},
   "source": [
    "Read image (np.flip is applied because it reads it upside-down in Plotly - heatmap) and apply contrast strecthing: "
   ]
  },
  {
   "cell_type": "code",
   "execution_count": 19,
   "metadata": {
    "ExecuteTime": {
     "end_time": "2021-03-24T23:32:59.402225Z",
     "start_time": "2021-03-24T23:32:59.369198Z"
    }
   },
   "outputs": [],
   "source": [
    "# Read image (np.flip is applied because it reads it upside-down in Plotly - heatmap)\n",
    "img1 = np.flip(cv2.imread(\"Barbara.tif\", 0))\n",
    "# Apply contrast stretching\n",
    "img2 = contrast_stretching(img1, [r_list, s_list])"
   ]
  },
  {
   "cell_type": "markdown",
   "metadata": {},
   "source": [
    "Display images using [**Plotly**](https://plotly.com/) is a *Python* library primarly developed and officially opened in the Montreal headquarters. I frankly use it a lot, it has much more features that regular plotting libraries. You can zoom in and out and hover over images to get exact pixels if one is intrested.\n",
    "\n",
    "Plotting images as **Heatmaps**: "
   ]
  },
  {
   "cell_type": "code",
   "execution_count": null,
   "metadata": {},
   "outputs": [],
   "source": [
    "# Plot using Plotly\n",
    "from plotly.subplots import make_subplots\n",
    "import plotly.graph_objects as go\n",
    "from IPython.core.display import display, HTML\n",
    "\n",
    "# Make subplot traces of heatmaps\n",
    "fig = make_subplots(rows=1, cols=2)\n",
    "fig.add_trace(\n",
    "    go.Heatmap(z=img1,\n",
    "               colorscale=\"Gray\",\n",
    "               showscale=False,\n",
    "               autocolorscale=False,\n",
    "               name=\"Original image\"),\n",
    "        row=1, col=1)\n",
    "\n",
    "fig.add_trace( \n",
    "    go.Heatmap(z=img2,\n",
    "               colorscale=\"Gray\",\n",
    "               showscale=False,\n",
    "               autocolorscale=False,\n",
    "               name=\"Stretched image\"),\n",
    "        row=1, col=2)\n",
    "\n",
    "# Updates on traces\n",
    "fig.update_traces(overwrite=True)\n",
    "fig.update_xaxes(visible=False)\n",
    "fig.update_yaxes(visible=False)\n",
    "\n",
    "# Update layout (80% height, 80% width)\n",
    "fig.update_layout(height=(402 * 2) * 0.8,\n",
    "                  width=(566 * 2) * 0.8,\n",
    "                  title=\"\\t \\t \\t \\t \\t \\t \\t \\t \\t \\t \\t  \\t \\t \\t \\t \\t Original \\t \\t \\t \\t \\t \\t \\t \\t \\t \\t \"\n",
    "                  \"\\t \\t \\t \\t \\t \\t \\t \\t \\t \\t \\t \\t \\t \\t \\t \\t \\t \\t \\t \\t \\t \\t \\t \\t \\t \\t \\t \\t \\t \\t\"\n",
    "                  \" \\t \\t \\t \\t \\t \\t \\t \\t \\t \\t \\t \\t \\t \\t \\t Stretched\", )\n",
    "\n",
    "# Plot figure inline in Jupyter notebook\n",
    "iplot(fig, config=config)\n",
    "# Plot and save as HTML in Python script\n",
    "# plot(fig, filename='1-Contrast-stretching.html', config=config)\n",
    "# display(HTML(1-Contrast-stretching.html))"
   ]
  },
  {
   "cell_type": "markdown",
   "metadata": {},
   "source": [
    "You can also load the <code>1-Contrast-stretching.html</code> with browser without running the code. Plotly has its own *JavaScript* and the functionallity is not lost if you don't run the code. "
   ]
  }
 ],
 "metadata": {
  "kernelspec": {
   "display_name": "Python 3",
   "language": "python",
   "name": "python3"
  },
  "language_info": {
   "codemirror_mode": {
    "name": "ipython",
    "version": 3
   },
   "file_extension": ".py",
   "mimetype": "text/x-python",
   "name": "python",
   "nbconvert_exporter": "python",
   "pygments_lexer": "ipython3",
   "version": "3.7.9"
  },
  "latex_envs": {
   "LaTeX_envs_menu_present": true,
   "autoclose": false,
   "autocomplete": true,
   "bibliofile": "biblio.bib",
   "cite_by": "apalike",
   "current_citInitial": 1,
   "eqLabelWithNumbers": true,
   "eqNumInitial": 1,
   "hotkeys": {
    "equation": "Ctrl-E",
    "itemize": "Ctrl-I"
   },
   "labels_anchors": false,
   "latex_user_defs": false,
   "report_style_numbering": false,
   "user_envs_cfg": false
  },
  "varInspector": {
   "cols": {
    "lenName": 16,
    "lenType": 16,
    "lenVar": 40
   },
   "kernels_config": {
    "python": {
     "delete_cmd_postfix": "",
     "delete_cmd_prefix": "del ",
     "library": "var_list.py",
     "varRefreshCmd": "print(var_dic_list())"
    },
    "r": {
     "delete_cmd_postfix": ") ",
     "delete_cmd_prefix": "rm(",
     "library": "var_list.r",
     "varRefreshCmd": "cat(var_dic_list()) "
    }
   },
   "types_to_exclude": [
    "module",
    "function",
    "builtin_function_or_method",
    "instance",
    "_Feature"
   ],
   "window_display": false
  }
 },
 "nbformat": 4,
 "nbformat_minor": 4
}
